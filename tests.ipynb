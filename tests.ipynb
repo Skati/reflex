{
 "cells": [
  {
   "cell_type": "markdown",
   "metadata": {},
   "source": [
    "### Test: writing down pivots and resonances"
   ]
  },
  {
   "cell_type": "code",
   "execution_count": 3,
   "metadata": {},
   "outputs": [
    {
     "name": "stdout",
     "output_type": "stream",
     "text": [
      "Writing pivot table...\n"
     ]
    },
    {
     "name": "stderr",
     "output_type": "stream",
     "text": [
      "100%|███████████████████████████████████████████████████████████████████████████████| 260/260 [00:02<00:00, 102.24it/s]\n"
     ]
    },
    {
     "name": "stdout",
     "output_type": "stream",
     "text": [
      "Calculating the resonances...\n"
     ]
    },
    {
     "name": "stderr",
     "output_type": "stream",
     "text": [
      "100%|████████████████████████████████████████████████████████████████████████████████| 260/260 [01:58<00:00,  2.19it/s]\n"
     ]
    },
    {
     "name": "stdout",
     "output_type": "stream",
     "text": [
      "Done !\n"
     ]
    }
   ],
   "source": [
    "%run reflex.py"
   ]
  },
  {
   "cell_type": "markdown",
   "metadata": {},
   "source": [
    "### Test: comprising the dataset for  data analysis:"
   ]
  },
  {
   "cell_type": "code",
   "execution_count": 52,
   "metadata": {},
   "outputs": [],
   "source": [
    "from utils import data_vectorizaton"
   ]
  },
  {
   "cell_type": "code",
   "execution_count": 58,
   "metadata": {},
   "outputs": [],
   "source": [
    "import os\n",
    "list_files = os.listdir('..//data/')"
   ]
  },
  {
   "cell_type": "code",
   "execution_count": 59,
   "metadata": {},
   "outputs": [
    {
     "data": {
      "text/html": [
       "<div>\n",
       "<style scoped>\n",
       "    .dataframe tbody tr th:only-of-type {\n",
       "        vertical-align: middle;\n",
       "    }\n",
       "\n",
       "    .dataframe tbody tr th {\n",
       "        vertical-align: top;\n",
       "    }\n",
       "\n",
       "    .dataframe thead th {\n",
       "        text-align: right;\n",
       "    }\n",
       "</style>\n",
       "<table border=\"1\" class=\"dataframe\">\n",
       "  <thead>\n",
       "    <tr style=\"text-align: right;\">\n",
       "      <th></th>\n",
       "      <th>alpha_75_330</th>\n",
       "      <th>alpha_75_360</th>\n",
       "      <th>alpha_75_390</th>\n",
       "      <th>alpha_75_420</th>\n",
       "      <th>alpha_75_450</th>\n",
       "      <th>alpha_75_480</th>\n",
       "      <th>alpha_75_510</th>\n",
       "      <th>alpha_75_540</th>\n",
       "      <th>alpha_75_570</th>\n",
       "      <th>Y1_75_330</th>\n",
       "      <th>...</th>\n",
       "      <th>R1_95_330</th>\n",
       "      <th>R1_95_360</th>\n",
       "      <th>R1_95_390</th>\n",
       "      <th>R1_95_420</th>\n",
       "      <th>R1_95_450</th>\n",
       "      <th>R1_95_480</th>\n",
       "      <th>R1_95_510</th>\n",
       "      <th>R1_95_540</th>\n",
       "      <th>R1_95_570</th>\n",
       "      <th>subject</th>\n",
       "    </tr>\n",
       "  </thead>\n",
       "  <tbody>\n",
       "    <tr>\n",
       "      <td>0</td>\n",
       "      <td>0.272</td>\n",
       "      <td>0.808</td>\n",
       "      <td>0.852</td>\n",
       "      <td>0.826</td>\n",
       "      <td>0.721</td>\n",
       "      <td>0.534</td>\n",
       "      <td>0.469</td>\n",
       "      <td>0.342</td>\n",
       "      <td>0.262</td>\n",
       "      <td>-6.251</td>\n",
       "      <td>...</td>\n",
       "      <td>2.501</td>\n",
       "      <td>1.844</td>\n",
       "      <td>2.728</td>\n",
       "      <td>1.910</td>\n",
       "      <td>2.702</td>\n",
       "      <td>2.428</td>\n",
       "      <td>4.662</td>\n",
       "      <td>3.218</td>\n",
       "      <td>2.546</td>\n",
       "      <td>Антипов 22-л-1 (В) 07.06.20.csv</td>\n",
       "    </tr>\n",
       "    <tr>\n",
       "      <td>1</td>\n",
       "      <td>0.292</td>\n",
       "      <td>0.420</td>\n",
       "      <td>0.654</td>\n",
       "      <td>0.846</td>\n",
       "      <td>0.936</td>\n",
       "      <td>0.867</td>\n",
       "      <td>0.695</td>\n",
       "      <td>0.530</td>\n",
       "      <td>0.363</td>\n",
       "      <td>-4.326</td>\n",
       "      <td>...</td>\n",
       "      <td>2.718</td>\n",
       "      <td>1.499</td>\n",
       "      <td>1.786</td>\n",
       "      <td>1.592</td>\n",
       "      <td>1.500</td>\n",
       "      <td>1.568</td>\n",
       "      <td>1.631</td>\n",
       "      <td>1.765</td>\n",
       "      <td>1.545</td>\n",
       "      <td>Антипов 22-л-1 (В) 09.06.20.csv</td>\n",
       "    </tr>\n",
       "    <tr>\n",
       "      <td>2</td>\n",
       "      <td>0.519</td>\n",
       "      <td>0.778</td>\n",
       "      <td>0.938</td>\n",
       "      <td>0.899</td>\n",
       "      <td>0.800</td>\n",
       "      <td>0.506</td>\n",
       "      <td>0.468</td>\n",
       "      <td>0.453</td>\n",
       "      <td>0.339</td>\n",
       "      <td>-2.286</td>\n",
       "      <td>...</td>\n",
       "      <td>1.674</td>\n",
       "      <td>1.889</td>\n",
       "      <td>1.992</td>\n",
       "      <td>1.663</td>\n",
       "      <td>1.982</td>\n",
       "      <td>1.712</td>\n",
       "      <td>2.283</td>\n",
       "      <td>1.130</td>\n",
       "      <td>1.939</td>\n",
       "      <td>Антипов 22-л-1 (ф) 07.06.20.csv</td>\n",
       "    </tr>\n",
       "    <tr>\n",
       "      <td>3</td>\n",
       "      <td>0.508</td>\n",
       "      <td>0.630</td>\n",
       "      <td>0.869</td>\n",
       "      <td>0.837</td>\n",
       "      <td>0.744</td>\n",
       "      <td>0.601</td>\n",
       "      <td>0.499</td>\n",
       "      <td>0.257</td>\n",
       "      <td>0.346</td>\n",
       "      <td>-2.674</td>\n",
       "      <td>...</td>\n",
       "      <td>2.138</td>\n",
       "      <td>1.815</td>\n",
       "      <td>2.063</td>\n",
       "      <td>2.018</td>\n",
       "      <td>2.398</td>\n",
       "      <td>2.964</td>\n",
       "      <td>2.873</td>\n",
       "      <td>3.302</td>\n",
       "      <td>3.348</td>\n",
       "      <td>Антипов 22-л-1 (ф) 09.06.20.csv</td>\n",
       "    </tr>\n",
       "    <tr>\n",
       "      <td>4</td>\n",
       "      <td>0.552</td>\n",
       "      <td>0.692</td>\n",
       "      <td>0.876</td>\n",
       "      <td>0.893</td>\n",
       "      <td>0.742</td>\n",
       "      <td>0.669</td>\n",
       "      <td>0.482</td>\n",
       "      <td>0.469</td>\n",
       "      <td>0.290</td>\n",
       "      <td>-2.422</td>\n",
       "      <td>...</td>\n",
       "      <td>1.467</td>\n",
       "      <td>1.936</td>\n",
       "      <td>1.741</td>\n",
       "      <td>1.568</td>\n",
       "      <td>4.612</td>\n",
       "      <td>1.783</td>\n",
       "      <td>2.040</td>\n",
       "      <td>2.139</td>\n",
       "      <td>2.439</td>\n",
       "      <td>Антипов 22-л-1 (ф) 13.07.20.csv</td>\n",
       "    </tr>\n",
       "    <tr>\n",
       "      <td>...</td>\n",
       "      <td>...</td>\n",
       "      <td>...</td>\n",
       "      <td>...</td>\n",
       "      <td>...</td>\n",
       "      <td>...</td>\n",
       "      <td>...</td>\n",
       "      <td>...</td>\n",
       "      <td>...</td>\n",
       "      <td>...</td>\n",
       "      <td>...</td>\n",
       "      <td>...</td>\n",
       "      <td>...</td>\n",
       "      <td>...</td>\n",
       "      <td>...</td>\n",
       "      <td>...</td>\n",
       "      <td>...</td>\n",
       "      <td>...</td>\n",
       "      <td>...</td>\n",
       "      <td>...</td>\n",
       "      <td>...</td>\n",
       "      <td>...</td>\n",
       "    </tr>\n",
       "    <tr>\n",
       "      <td>255</td>\n",
       "      <td>0.172</td>\n",
       "      <td>0.448</td>\n",
       "      <td>0.502</td>\n",
       "      <td>0.598</td>\n",
       "      <td>0.758</td>\n",
       "      <td>0.748</td>\n",
       "      <td>0.780</td>\n",
       "      <td>0.625</td>\n",
       "      <td>0.551</td>\n",
       "      <td>-7.709</td>\n",
       "      <td>...</td>\n",
       "      <td>2.870</td>\n",
       "      <td>3.812</td>\n",
       "      <td>1.779</td>\n",
       "      <td>1.812</td>\n",
       "      <td>2.515</td>\n",
       "      <td>2.299</td>\n",
       "      <td>2.373</td>\n",
       "      <td>2.383</td>\n",
       "      <td>2.455</td>\n",
       "      <td>Хрипунов 22-п-1 (В) 07.06.20.csv</td>\n",
       "    </tr>\n",
       "    <tr>\n",
       "      <td>256</td>\n",
       "      <td>0.345</td>\n",
       "      <td>0.432</td>\n",
       "      <td>0.579</td>\n",
       "      <td>0.771</td>\n",
       "      <td>0.846</td>\n",
       "      <td>0.773</td>\n",
       "      <td>0.687</td>\n",
       "      <td>0.590</td>\n",
       "      <td>0.491</td>\n",
       "      <td>-4.511</td>\n",
       "      <td>...</td>\n",
       "      <td>3.211</td>\n",
       "      <td>2.565</td>\n",
       "      <td>2.228</td>\n",
       "      <td>2.131</td>\n",
       "      <td>2.078</td>\n",
       "      <td>2.259</td>\n",
       "      <td>2.403</td>\n",
       "      <td>2.469</td>\n",
       "      <td>3.161</td>\n",
       "      <td>Хрипунов 22-п-1 (В) 09.06.20.csv</td>\n",
       "    </tr>\n",
       "    <tr>\n",
       "      <td>257</td>\n",
       "      <td>0.001</td>\n",
       "      <td>0.446</td>\n",
       "      <td>0.420</td>\n",
       "      <td>0.720</td>\n",
       "      <td>0.770</td>\n",
       "      <td>0.861</td>\n",
       "      <td>0.725</td>\n",
       "      <td>0.643</td>\n",
       "      <td>0.602</td>\n",
       "      <td>-41.625</td>\n",
       "      <td>...</td>\n",
       "      <td>0.528</td>\n",
       "      <td>12.145</td>\n",
       "      <td>2.878</td>\n",
       "      <td>3.088</td>\n",
       "      <td>2.322</td>\n",
       "      <td>2.702</td>\n",
       "      <td>2.611</td>\n",
       "      <td>2.358</td>\n",
       "      <td>3.186</td>\n",
       "      <td>Хрипунов 22-п-1 (ф) 07.06.20.csv</td>\n",
       "    </tr>\n",
       "    <tr>\n",
       "      <td>258</td>\n",
       "      <td>0.326</td>\n",
       "      <td>0.299</td>\n",
       "      <td>0.585</td>\n",
       "      <td>0.681</td>\n",
       "      <td>0.859</td>\n",
       "      <td>0.856</td>\n",
       "      <td>0.731</td>\n",
       "      <td>0.620</td>\n",
       "      <td>0.478</td>\n",
       "      <td>-4.377</td>\n",
       "      <td>...</td>\n",
       "      <td>3.557</td>\n",
       "      <td>1.580</td>\n",
       "      <td>2.080</td>\n",
       "      <td>1.940</td>\n",
       "      <td>2.305</td>\n",
       "      <td>2.120</td>\n",
       "      <td>2.393</td>\n",
       "      <td>2.538</td>\n",
       "      <td>2.619</td>\n",
       "      <td>Хрипунов 22-п-1 (ф) 09.06.20.csv</td>\n",
       "    </tr>\n",
       "    <tr>\n",
       "      <td>259</td>\n",
       "      <td>0.006</td>\n",
       "      <td>0.444</td>\n",
       "      <td>0.490</td>\n",
       "      <td>0.636</td>\n",
       "      <td>0.775</td>\n",
       "      <td>0.840</td>\n",
       "      <td>0.738</td>\n",
       "      <td>0.658</td>\n",
       "      <td>0.513</td>\n",
       "      <td>-5.087</td>\n",
       "      <td>...</td>\n",
       "      <td>1.429</td>\n",
       "      <td>2.241</td>\n",
       "      <td>2.350</td>\n",
       "      <td>2.018</td>\n",
       "      <td>2.176</td>\n",
       "      <td>2.206</td>\n",
       "      <td>2.235</td>\n",
       "      <td>2.464</td>\n",
       "      <td>4.198</td>\n",
       "      <td>Хрипунов 22-п-2 (ф) 07.06.20.csv</td>\n",
       "    </tr>\n",
       "  </tbody>\n",
       "</table>\n",
       "<p>260 rows × 136 columns</p>\n",
       "</div>"
      ],
      "text/plain": [
       "     alpha_75_330  alpha_75_360  alpha_75_390  alpha_75_420  alpha_75_450  \\\n",
       "0           0.272         0.808         0.852         0.826         0.721   \n",
       "1           0.292         0.420         0.654         0.846         0.936   \n",
       "2           0.519         0.778         0.938         0.899         0.800   \n",
       "3           0.508         0.630         0.869         0.837         0.744   \n",
       "4           0.552         0.692         0.876         0.893         0.742   \n",
       "..            ...           ...           ...           ...           ...   \n",
       "255         0.172         0.448         0.502         0.598         0.758   \n",
       "256         0.345         0.432         0.579         0.771         0.846   \n",
       "257         0.001         0.446         0.420         0.720         0.770   \n",
       "258         0.326         0.299         0.585         0.681         0.859   \n",
       "259         0.006         0.444         0.490         0.636         0.775   \n",
       "\n",
       "     alpha_75_480  alpha_75_510  alpha_75_540  alpha_75_570  Y1_75_330  ...  \\\n",
       "0           0.534         0.469         0.342         0.262     -6.251  ...   \n",
       "1           0.867         0.695         0.530         0.363     -4.326  ...   \n",
       "2           0.506         0.468         0.453         0.339     -2.286  ...   \n",
       "3           0.601         0.499         0.257         0.346     -2.674  ...   \n",
       "4           0.669         0.482         0.469         0.290     -2.422  ...   \n",
       "..            ...           ...           ...           ...        ...  ...   \n",
       "255         0.748         0.780         0.625         0.551     -7.709  ...   \n",
       "256         0.773         0.687         0.590         0.491     -4.511  ...   \n",
       "257         0.861         0.725         0.643         0.602    -41.625  ...   \n",
       "258         0.856         0.731         0.620         0.478     -4.377  ...   \n",
       "259         0.840         0.738         0.658         0.513     -5.087  ...   \n",
       "\n",
       "     R1_95_330  R1_95_360  R1_95_390  R1_95_420  R1_95_450  R1_95_480  \\\n",
       "0        2.501      1.844      2.728      1.910      2.702      2.428   \n",
       "1        2.718      1.499      1.786      1.592      1.500      1.568   \n",
       "2        1.674      1.889      1.992      1.663      1.982      1.712   \n",
       "3        2.138      1.815      2.063      2.018      2.398      2.964   \n",
       "4        1.467      1.936      1.741      1.568      4.612      1.783   \n",
       "..         ...        ...        ...        ...        ...        ...   \n",
       "255      2.870      3.812      1.779      1.812      2.515      2.299   \n",
       "256      3.211      2.565      2.228      2.131      2.078      2.259   \n",
       "257      0.528     12.145      2.878      3.088      2.322      2.702   \n",
       "258      3.557      1.580      2.080      1.940      2.305      2.120   \n",
       "259      1.429      2.241      2.350      2.018      2.176      2.206   \n",
       "\n",
       "     R1_95_510  R1_95_540  R1_95_570                           subject  \n",
       "0        4.662      3.218      2.546   Антипов 22-л-1 (В) 07.06.20.csv  \n",
       "1        1.631      1.765      1.545   Антипов 22-л-1 (В) 09.06.20.csv  \n",
       "2        2.283      1.130      1.939   Антипов 22-л-1 (ф) 07.06.20.csv  \n",
       "3        2.873      3.302      3.348   Антипов 22-л-1 (ф) 09.06.20.csv  \n",
       "4        2.040      2.139      2.439   Антипов 22-л-1 (ф) 13.07.20.csv  \n",
       "..         ...        ...        ...                               ...  \n",
       "255      2.373      2.383      2.455  Хрипунов 22-п-1 (В) 07.06.20.csv  \n",
       "256      2.403      2.469      3.161  Хрипунов 22-п-1 (В) 09.06.20.csv  \n",
       "257      2.611      2.358      3.186  Хрипунов 22-п-1 (ф) 07.06.20.csv  \n",
       "258      2.393      2.538      2.619  Хрипунов 22-п-1 (ф) 09.06.20.csv  \n",
       "259      2.235      2.464      4.198  Хрипунов 22-п-2 (ф) 07.06.20.csv  \n",
       "\n",
       "[260 rows x 136 columns]"
      ]
     },
     "execution_count": 59,
     "metadata": {},
     "output_type": "execute_result"
    }
   ],
   "source": [
    "import pandas as pd\n",
    "resulting_df = pd.DataFrame()\n",
    "for i in list_files:\n",
    "    temp_df = data_vectorizaton('..//data/'+ i )\n",
    "    temp_df['subject']= i\n",
    "    \n",
    "    resulting_df = pd.concat([resulting_df, temp_df])\n",
    "resulting_df.reset_index(drop= True);"
   ]
  },
  {
   "cell_type": "code",
   "execution_count": 63,
   "metadata": {},
   "outputs": [
    {
     "data": {
      "text/plain": [
       "[('(ф)', 104), ('(ф1)', 45), ('(ф2)', 43), ('(В)', 37), ('(ф3)', 31)]"
      ]
     },
     "execution_count": 63,
     "metadata": {},
     "output_type": "execute_result"
    }
   ],
   "source": [
    "list(resulting_df['subject'].str.split(' ', expand = True)[2].value_counts().items())"
   ]
  },
  {
   "cell_type": "code",
   "execution_count": 64,
   "metadata": {},
   "outputs": [],
   "source": [
    "resulting_df['condition'] = resulting_df['subject'].str.split(' ', expand = True)[2]"
   ]
  },
  {
   "cell_type": "code",
   "execution_count": 71,
   "metadata": {},
   "outputs": [],
   "source": [
    "resulting_df['date'] = resulting_df['subject'].str.split(' ', expand = True)[3]\n",
    "resulting_df['date'] = pd.to_datetime(\n",
    "    resulting_df['date'].map(lambda x: str(x)[:-4])\n",
    ")"
   ]
  },
  {
   "cell_type": "code",
   "execution_count": 67,
   "metadata": {},
   "outputs": [],
   "source": [
    "resulting_df['side'] = resulting_df['subject'].str.split('-', expand = True)[1]"
   ]
  },
  {
   "cell_type": "code",
   "execution_count": 73,
   "metadata": {},
   "outputs": [],
   "source": [
    "resulting_df['subject'] = resulting_df['subject'].str.split(' ', expand = True)[0]"
   ]
  },
  {
   "cell_type": "markdown",
   "metadata": {},
   "source": [
    "#### One hot encoding for anonymisation:"
   ]
  },
  {
   "cell_type": "code",
   "execution_count": 78,
   "metadata": {},
   "outputs": [
    {
     "name": "stderr",
     "output_type": "stream",
     "text": [
      "C:\\Users\\Lenovo\\Anaconda3\\lib\\site-packages\\sklearn\\preprocessing\\_label.py:251: DataConversionWarning: A column-vector y was passed when a 1d array was expected. Please change the shape of y to (n_samples, ), for example using ravel().\n",
      "  y = column_or_1d(y, warn=True)\n"
     ]
    },
    {
     "data": {
      "text/plain": [
       "array([ 0,  0,  0,  0,  0,  0,  0,  0,  0,  0,  0,  0,  0,  0,  0,  0,  0,\n",
       "        0,  0,  0,  0,  0,  1,  1,  1,  1,  1,  1,  1,  1,  1,  1,  1,  1,\n",
       "        1,  1,  1,  1,  1,  1,  1,  1,  1,  1,  1,  1,  1,  2,  2,  2,  2,\n",
       "        2,  2,  2,  2,  2,  2,  2,  2,  2,  2,  2,  2,  2,  2,  3,  3,  3,\n",
       "        3,  3,  3,  3,  3,  3,  3,  3,  3,  3,  3,  3,  3,  3,  3,  4,  4,\n",
       "        4,  4,  4,  4,  4,  4,  4,  4,  4,  4,  4,  4,  4,  4,  5,  5,  5,\n",
       "        5,  5,  5,  5,  5,  5,  5,  5,  5,  5,  5,  5,  5,  5,  5,  5,  5,\n",
       "        5,  5,  5,  5,  5,  5,  5,  6,  6,  6,  6,  6,  6,  6,  6,  6,  6,\n",
       "        6,  6,  7,  7,  7,  7,  7,  7,  7,  7,  7,  7,  7,  7,  7,  7,  7,\n",
       "        7,  7,  7,  7,  7,  7,  7,  7,  7,  8,  8,  8,  8,  8,  8,  8,  8,\n",
       "        8,  8,  8,  8,  8,  8,  8,  8,  8,  8,  8,  8,  8,  8,  8,  9,  9,\n",
       "        9,  9,  9,  9,  9,  9,  9,  9,  9,  9,  9,  9,  9,  9,  9,  9, 10,\n",
       "       10, 10, 10, 10, 10, 10, 10, 10, 10, 10, 10, 10, 10, 10, 10, 10, 10,\n",
       "       10, 10, 10, 10, 10, 11, 11, 11, 11, 11, 11, 12, 12, 12, 12, 12, 12,\n",
       "       12, 12, 12, 12, 12, 12, 12, 12, 12, 12, 12, 12, 13, 13, 13, 13, 13,\n",
       "       13, 13, 13, 13, 13])"
      ]
     },
     "execution_count": 78,
     "metadata": {},
     "output_type": "execute_result"
    }
   ],
   "source": [
    "from sklearn.preprocessing import LabelEncoder\n",
    "\n",
    "le = LabelEncoder()\n",
    "\n",
    "subjects = le.fit_transform(resulting_df['subject']);\n",
    "sides = le.fit_transform(resulting_df['side']);\n",
    "conditions = le.fit_transform(resulting_df['con']);"
   ]
  },
  {
   "cell_type": "code",
   "execution_count": null,
   "metadata": {},
   "outputs": [],
   "source": []
  },
  {
   "cell_type": "code",
   "execution_count": 32,
   "metadata": {},
   "outputs": [
    {
     "data": {
      "text/plain": [
       "(183, 55, 0)"
      ]
     },
     "execution_count": 32,
     "metadata": {},
     "output_type": "execute_result"
    }
   ],
   "source": [
    "resulting_df['subject'].str.contains('ф').sum(), resulting_df['subject'].str.contains('В').sum(), resulting_df['subject'].str.contains(' (в) ').sum()"
   ]
  },
  {
   "cell_type": "code",
   "execution_count": null,
   "metadata": {},
   "outputs": [],
   "source": []
  },
  {
   "cell_type": "code",
   "execution_count": null,
   "metadata": {},
   "outputs": [],
   "source": [
    "resulting_df[resulting_df['subject']]"
   ]
  }
 ],
 "metadata": {
  "kernelspec": {
   "display_name": "Python 3",
   "language": "python",
   "name": "python3"
  },
  "language_info": {
   "codemirror_mode": {
    "name": "ipython",
    "version": 3
   },
   "file_extension": ".py",
   "mimetype": "text/x-python",
   "name": "python",
   "nbconvert_exporter": "python",
   "pygments_lexer": "ipython3",
   "version": "3.7.4"
  }
 },
 "nbformat": 4,
 "nbformat_minor": 2
}
